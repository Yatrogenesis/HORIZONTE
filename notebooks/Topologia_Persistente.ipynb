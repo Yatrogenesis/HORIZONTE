{
 "cells": [
  {"cell_type":"markdown","metadata":{},"source":["# Topología Persistente (PH) – Ripser/GUDHI (opcional)"]},
  {"cell_type":"code","execution_count":null,"metadata":{},"outputs":[],"source":[
    "import numpy as np\n",
    "from horizonte.sch.cml import CML, CMLParams\n",
    "from horizonte.mitg.tda import persistent_homology, topo_proxy_phi\n",
    "\n",
    "p = CMLParams(n=64, r=3.9, kappa=0.14, noise=0.001, seed=1)\n",
    "cml = CML(p)\n",
    "W = 40; steps = 400; series = []\n",
    "for t in range(steps):\n",
    "    series.append(cml.step().copy())\n",
    "win = np.array(series[-W:])\n",
    "res = persistent_homology(win)\n",
    "phi_topo, details = topo_proxy_phi(win)\n",
    "res, phi_topo, details\n"
  ]},
  {"cell_type":"markdown","metadata":{},"source":["Si `res` es `None`, instala alguna implementación: `pip install ripser` o `pip install gudhi` (según plataforma)."]}
 ],
 "metadata": {"kernelspec":{"display_name":"Python 3","language":"python","name":"python3"}},
 "nbformat":4,"nbformat_minor":5
}
