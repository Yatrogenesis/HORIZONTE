{
 "cells": [
  {
   "cell_type": "markdown",
   "metadata": {},
   "source": [
    "# Exploración MIT-G y AMD (Phi^ y Lyapunov)" ]
  },
  {
   "cell_type": "code",
   "execution_count": null,
   "metadata": {},
   "outputs": [],
   "source": [
    "import numpy as np\n",
    "import matplotlib.pyplot as plt\n",
    "from horizonte.sch.cml import CML, CMLParams\n",
    "from horizonte.mitg.topology import analyze_window\n",
    "\n",
    "p = CMLParams(n=128, r=3.9, kappa=0.14, noise=0.001, seed=42)\n",
    "cml = CML(p)\n",
    "W = 50\n",
    "steps = 600\n",
    "series = []\n",
    "phi_vals = []\n",
    "for t in range(steps):\n",
    "    x = cml.step()\n",
    "    series.append(x.copy())\n",
    "    if t>=W and t % 5 == 0:\n",
    "        win = np.array(series[-W:])\n",
    "        phi_hat, _ = analyze_window(win)\n",
    "        phi_vals.append(phi_hat)\n",
    "lam = cml.lyapunov_max(T=120)\n",
    "lam"]
  },
  {
   "cell_type": "code",
   "execution_count": null,
   "metadata": {},
   "outputs": [],
   "source": [
    "plt.figure(figsize=(8,3))\n",
    "plt.plot(phi_vals, label='Phi^ proxy')\n",
    "plt.title('Evolución Phi^ (proxy)')\n",
    "plt.xlabel('muestras (cada 5 pasos)')\n",
    "plt.legend(); plt.show()\n"]
  }
 ],
 "metadata": { "kernelspec": { "display_name": "Python 3", "language": "python", "name": "python3" } },
 "nbformat": 4,
 "nbformat_minor": 5
}
